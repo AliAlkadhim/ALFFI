{
 "cells": [
  {
   "cell_type": "markdown",
   "metadata": {
    "id": "40Yb47zJQglm"
   },
   "source": [
    "# Simulation-Based Inference SIR Model: Coverage Study\n",
    "Created: June 8, 2022 Prosper, Prosper, and Al Kadhim<br>\n",
    "\n",
    "## Introduction \n",
    "\n",
    "In this notebook, we compute through explicit enumeration the coverage of the confidence sets constructed using model __SIR_dnn_cdf_amortized.py__.\n",
    "\n",
    "Recall that our test statistic is\n",
    "\n",
    "\\begin{align}\n",
    "    \\lambda(\\theta, \\mathbf{x}) & = \\sqrt{\\frac{1}{n} \\sum_{j=1}^n \\frac{[x_j - I_j(\\theta)]^2}{I_j}} ,\n",
    "\\end{align}\n",
    "\n",
    "where $\\mathbf{x} = x_1,\\cdots,x_n$ are infection counts and $I_j = I(t_j, \\theta)$ is the *mean* infection count at time $t_j$ found by solving the SIR equations\n",
    "\n",
    "\\begin{align}\n",
    "    \\frac{dS}{dt} & = - \\beta S I ,\\\\\n",
    "    \\frac{dI}{dt} & = \\beta S I - \\alpha I .\n",
    "\\end{align}\n",
    "\n",
    "Confidence sets are created through the repeated application of the level-$\\alpha$ test $H_0: \\theta = \\theta_0$ versus the alternative $H_1: \\theta \\neq \\theta_0$.\n",
    "A __confidence set__ $R(X)$, which is a random set by virtue of its dependence on observations $X$, is the set of all values of $\\theta$ that *fail to be rejected* by the level-$\\alpha$ tests (here $\\alpha$ is not to be confused with the SIR parameter).  The __confidence level__ (CL) of the confidence set is $\\tau = 1 - \\alpha$. If the coverage probability function (CPF), that is, the coverage probability of the infinite collection of confidence sets at a given point $\\theta$ in the parameter space, satisfies the condition $\\text{CPF}(\\theta \\in R(X) | \\theta) \\ge \\tau$ then the confidence sets are said to be *exact*; otherwise they are approximate.\n",
    "\n",
    "\n",
    "## Explicit checking of coverage\n",
    "\n",
    "The notebook SIR_train_amortized_cdf.ipynb creates a model $M(\\alpha, \\beta, \\lambda_0)$ that approximates $\\mathbb{P}(\\lambda \\leq \\lambda_0|\\alpha, \\beta, \\lambda_0)$.  The figure below shows \n",
    "the SIR confidence sets, for different confidence levels, for the Boarding School data. The dashed contours are estimated through histogramming, while the continuous contours are the predictions of the simple deep neural network model $M(\\alpha, \\beta, \\lambda_0)$. \n",
    "\n",
    "![model comparison](fig_SIR_dnn_amortized_cdf_3_50_50_50_1_ReLU.png)\n",
    "\n",
    "### Coverage Algorithm\n",
    "We compute the coverage, through explicit enumeration, with algorithm below.\n",
    "  1. Sample $\\theta_i = (\\alpha_i, \\beta_i) \\sim \\pi_\\theta$ near the best fit point (specifically, within the 95\\% CL confidence set for the Boarding School data).\n",
    "  1. Compute the mean infection counts $\\mathbf{I}_i = (I_1,\\ldots, I_n)$ by solving the coupled ODEs.\n",
    "  1. Generate data $\\mathbf{x}_i = (x_1,\\ldots,x_n) \\sim F_{\\theta_i}$ for $K$ epidemics.\n",
    "  1. Sample confidence level $\\tau_i \\sim \\text{uniform(0.5, 1)}$\n",
    "  1. For each epidemic, $k$:\n",
    "      1. Compute the test statistic $\\lambda_{k} = \\lambda(\\theta_i, \\mathbf{x}_k)$\n",
    "      1. Compute $Z_k = \\mathbb{I}[\\, M(\\theta_i, \\lambda_k) \\leq \\tau_i\\, ]$, where $\\mathbb{I}$ is the indicator function. If $Z_k = 1$ then the point $\\theta_i$ lies within the confidence set, with confidence level $\\tau$, associated with the current epidemic, while if $Z_k = 0$ the point does not.\n",
    "  1. Compute fraction $f_i = \\text{sum}(Z) / K$, that is, the fraction of the time $\\theta_i$ was within the confidence set.\n",
    "  1. If $f_i \\approx \\tau_i$ then life is good!\n",
    "  1. Repeat the above many times.\n",
    "\n",
    "\n",
    "1706.05048 (paper, GR waveforms)"
   ]
  },
  {
   "cell_type": "code",
   "execution_count": 1,
   "metadata": {
    "id": "FA1Y5VCv20XZ"
   },
   "outputs": [],
   "source": [
    "import os, sys\n",
    "\n",
    "# the standard module for tabular data\n",
    "import pandas as pd\n",
    "\n",
    "# the standard module for array manipulation\n",
    "import numpy as np\n",
    "\n",
    "# the standard modules for high-quality plots\n",
    "import matplotlib as mp\n",
    "import matplotlib.pyplot as plt\n",
    "\n",
    "# standard scientific python module\n",
    "import scipy as sp\n",
    "import scipy.stats as st\n",
    "import scipy.optimize as op\n",
    "\n",
    "# pytorch\n",
    "import torch\n",
    "import torch.nn as nn\n",
    "\n",
    "# to reload modules\n",
    "import importlib\n",
    "\n",
    "%matplotlib inline"
   ]
  },
  {
   "cell_type": "code",
   "execution_count": 3,
   "metadata": {},
   "outputs": [],
   "source": [
    "# update fonts\n",
    "FONTSIZE = 18\n",
    "font = {'family' : 'serif',\n",
    "        'weight' : 'normal',\n",
    "        'size'   : FONTSIZE}\n",
    "mp.rc('font', **font)\n",
    "\n",
    "# set usetex = False if LaTex is not \n",
    "# available on your system or if the \n",
    "# rendering is too slow\n",
    "mp.rc('text', usetex=True)\n",
    "\n",
    "# set a seed to ensure reproducibility\n",
    "#seed = 128\n",
    "#rnd  = np.random.RandomState(seed)"
   ]
  },
  {
   "cell_type": "markdown",
   "metadata": {},
   "source": [
    "### Load SIR data"
   ]
  },
  {
   "cell_type": "code",
   "execution_count": 4,
   "metadata": {},
   "outputs": [
    {
     "name": "stdout",
     "output_type": "stream",
     "text": [
      " D           : [  3  25  75 227 296 258 236 192 126  71  28  11   7]\n",
      " I0          : 3\n",
      " O           : [  3  25  75 227 296 258 236 192 126  71  28  11   7]\n",
      " R0          : 0\n",
      " S0          : 763\n",
      " T           : [ 0  2  3  4  5  6  7  8  9 10 11 12 13]\n",
      " alpha0      : 0.465\n",
      " alpha_bins  : 16\n",
      " alpha_max   : 1.0\n",
      " alpha_min   : 0.0\n",
      " alpha_scale : 1.0\n",
      " beta0       : 0.00237\n",
      " beta_bins   : 16\n",
      " beta_max    : 0.7\n",
      " beta_min    : 0.2\n",
      " beta_scale  : 0.005\n",
      " model       : SIR\n",
      " scale       : 50\n",
      " tmax        : 14.0\n",
      " tmin        : 0.0\n",
      "\n"
     ]
    }
   ],
   "source": [
    "from SIR_gen_util import SIRdata\n",
    "print(SIRdata)"
   ]
  },
  {
   "cell_type": "markdown",
   "metadata": {},
   "source": [
    "### Load cdf model \n",
    "\n",
    "The model, $M$, approximates the probability\n",
    "\n",
    "\\begin{align}\n",
    "    \\mathbb{P}(\\lambda \\leq \\lambda_0 | \\alpha, \\beta) & = M(\\alpha, \\beta, \\lambda_0).\n",
    "\\end{align}"
   ]
  },
  {
   "cell_type": "code",
   "execution_count": 5,
   "metadata": {},
   "outputs": [
    {
     "name": "stdout",
     "output_type": "stream",
     "text": [
      "Name:  SIR_dnn_cdf_800K\n",
      "Model:\n",
      "Sequential(\n",
      "  (0): Linear(in_features=3, out_features=25, bias=True)\n",
      "  (1): ReLU()\n",
      "  (2): Linear(in_features=25, out_features=25, bias=True)\n",
      "  (3): ReLU()\n",
      "  (4): Linear(in_features=25, out_features=25, bias=True)\n",
      "  (5): ReLU()\n",
      "  (6): Linear(in_features=25, out_features=25, bias=True)\n",
      "  (7): ReLU()\n",
      "  (8): Linear(in_features=25, out_features=25, bias=True)\n",
      "  (9): ReLU()\n",
      "  (10): Linear(in_features=25, out_features=25, bias=True)\n",
      "  (11): ReLU()\n",
      "  (12): Linear(in_features=25, out_features=1, bias=True)\n",
      "  (13): Sigmoid()\n",
      ")\n",
      "['lo', 'alpha', 'beta']\n",
      "load: SIR_dnn_cdf_800K.dict\n"
     ]
    }
   ],
   "source": [
    "import SIR_dnn_cdf_800K as NN\n",
    "importlib.reload(NN)\n",
    "\n",
    "fold  = ''\n",
    "name  = NN.name\n",
    "model = NN.model\n",
    "\n",
    "print('Name: ', name)\n",
    "print('Model:')\n",
    "print(model)\n",
    "print(NN.features)\n",
    "\n",
    "modelfile = '%s.dict' % name\n",
    "print('load:', modelfile)\n",
    "model.load_state_dict(torch.load(modelfile))\n",
    "\n",
    "def cdf(l, alpha, beta):\n",
    "    X = np.array([l, alpha, beta]).T\n",
    "    inputs = torch.Tensor(X)\n",
    "    # go to evaluation mode\n",
    "    model.eval()\n",
    "    \n",
    "    # compute,reshape to a 1d array, and convert to a numpy array\n",
    "    Y = model(inputs).view(-1,).detach().numpy()\n",
    "    if len(Y) == 1:\n",
    "        return Y[0]\n",
    "    else:\n",
    "        return Y"
   ]
  },
  {
   "cell_type": "markdown",
   "metadata": {},
   "source": [
    "### Study\n",
    "For each point $\\theta = \\alpha, \\beta$ randomly choose a confidence level $\\tau$ determine the fraction of the time the test statistics yield a confidence set that includes $\\theta$."
   ]
  },
  {
   "cell_type": "code",
   "execution_count": 6,
   "metadata": {},
   "outputs": [
    {
     "data": {
      "text/html": [
       "<div>\n",
       "<style scoped>\n",
       "    .dataframe tbody tr th:only-of-type {\n",
       "        vertical-align: middle;\n",
       "    }\n",
       "\n",
       "    .dataframe tbody tr th {\n",
       "        vertical-align: top;\n",
       "    }\n",
       "\n",
       "    .dataframe thead th {\n",
       "        text-align: right;\n",
       "    }\n",
       "</style>\n",
       "<table border=\"1\" class=\"dataframe\">\n",
       "  <thead>\n",
       "    <tr style=\"text-align: right;\">\n",
       "      <th></th>\n",
       "      <th>alpha</th>\n",
       "      <th>beta</th>\n",
       "      <th>I</th>\n",
       "      <th>li</th>\n",
       "    </tr>\n",
       "  </thead>\n",
       "  <tbody>\n",
       "    <tr>\n",
       "      <th>0</th>\n",
       "      <td>0.3033</td>\n",
       "      <td>0.4228</td>\n",
       "      <td>[3.0000e+00,3.8831e+01,1.1964e+02,2.6545e+02,3...</td>\n",
       "      <td>[4.1502e+00,3.4402e+00,1.9559e+00,1.3257e+00,4...</td>\n",
       "    </tr>\n",
       "    <tr>\n",
       "      <th>1</th>\n",
       "      <td>0.2420</td>\n",
       "      <td>0.3849</td>\n",
       "      <td>[3.0000e+00,3.3335e+01,9.9299e+01,2.3250e+02,3...</td>\n",
       "      <td>[1.3237e+00,2.3424e+00,4.1683e+00,1.4789e+00,1...</td>\n",
       "    </tr>\n",
       "    <tr>\n",
       "      <th>2</th>\n",
       "      <td>0.2556</td>\n",
       "      <td>0.3202</td>\n",
       "      <td>[3.0000e+00,2.0201e+01,4.9864e+01,1.1256e+02,2...</td>\n",
       "      <td>[2.3135e+00,1.3451e+00,2.4926e+00,2.1252e+00,4...</td>\n",
       "    </tr>\n",
       "    <tr>\n",
       "      <th>3</th>\n",
       "      <td>0.4339</td>\n",
       "      <td>0.4962</td>\n",
       "      <td>[3.0000e+00,5.0556e+01,1.5932e+02,2.9955e+02,3...</td>\n",
       "      <td>[2.2175e+00,1.3443e+00,5.7604e+00,9.2220e-01,4...</td>\n",
       "    </tr>\n",
       "    <tr>\n",
       "      <th>4</th>\n",
       "      <td>0.3319</td>\n",
       "      <td>0.5602</td>\n",
       "      <td>[3.0000e+00,9.4153e+01,3.0050e+02,4.2637e+02,3...</td>\n",
       "      <td>[1.0167e+00,1.0743e+00,1.6057e+00,2.9621e+00,3...</td>\n",
       "    </tr>\n",
       "  </tbody>\n",
       "</table>\n",
       "</div>"
      ],
      "text/plain": [
       "    alpha    beta                                                  I  \\\n",
       "0  0.3033  0.4228  [3.0000e+00,3.8831e+01,1.1964e+02,2.6545e+02,3...   \n",
       "1  0.2420  0.3849  [3.0000e+00,3.3335e+01,9.9299e+01,2.3250e+02,3...   \n",
       "2  0.2556  0.3202  [3.0000e+00,2.0201e+01,4.9864e+01,1.1256e+02,2...   \n",
       "3  0.4339  0.4962  [3.0000e+00,5.0556e+01,1.5932e+02,2.9955e+02,3...   \n",
       "4  0.3319  0.5602  [3.0000e+00,9.4153e+01,3.0050e+02,4.2637e+02,3...   \n",
       "\n",
       "                                                  li  \n",
       "0  [4.1502e+00,3.4402e+00,1.9559e+00,1.3257e+00,4...  \n",
       "1  [1.3237e+00,2.3424e+00,4.1683e+00,1.4789e+00,1...  \n",
       "2  [2.3135e+00,1.3451e+00,2.4926e+00,2.1252e+00,4...  \n",
       "3  [2.2175e+00,1.3443e+00,5.7604e+00,9.2220e-01,4...  \n",
       "4  [1.0167e+00,1.0743e+00,1.6057e+00,2.9621e+00,3...  "
      ]
     },
     "execution_count": 6,
     "metadata": {},
     "output_type": "execute_result"
    }
   ],
   "source": [
    "df    = pd.read_csv('SIR_coverage_study_data_N1000_K4000.csv')\n",
    "df[:5]"
   ]
  },
  {
   "cell_type": "code",
   "execution_count": 7,
   "metadata": {},
   "outputs": [
    {
     "name": "stdout",
     "output_type": "stream",
     "text": [
      "3.1374881191474966\n",
      "number of parameter points, sample size: 1000, 4000\n"
     ]
    },
    {
     "data": {
      "text/html": [
       "<div>\n",
       "<style scoped>\n",
       "    .dataframe tbody tr th:only-of-type {\n",
       "        vertical-align: middle;\n",
       "    }\n",
       "\n",
       "    .dataframe tbody tr th {\n",
       "        vertical-align: top;\n",
       "    }\n",
       "\n",
       "    .dataframe thead th {\n",
       "        text-align: right;\n",
       "    }\n",
       "</style>\n",
       "<table border=\"1\" class=\"dataframe\">\n",
       "  <thead>\n",
       "    <tr style=\"text-align: right;\">\n",
       "      <th></th>\n",
       "      <th>alpha</th>\n",
       "      <th>beta</th>\n",
       "      <th>I</th>\n",
       "      <th>li</th>\n",
       "    </tr>\n",
       "  </thead>\n",
       "  <tbody>\n",
       "    <tr>\n",
       "      <th>0</th>\n",
       "      <td>0.3033</td>\n",
       "      <td>0.4228</td>\n",
       "      <td>[3.0000e+00,3.8831e+01,1.1964e+02,2.6545e+02,3...</td>\n",
       "      <td>[4.1502e+00,3.4402e+00,1.9559e+00,1.3257e+00,4...</td>\n",
       "    </tr>\n",
       "    <tr>\n",
       "      <th>1</th>\n",
       "      <td>0.2420</td>\n",
       "      <td>0.3849</td>\n",
       "      <td>[3.0000e+00,3.3335e+01,9.9299e+01,2.3250e+02,3...</td>\n",
       "      <td>[1.3237e+00,2.3424e+00,4.1683e+00,1.4789e+00,1...</td>\n",
       "    </tr>\n",
       "    <tr>\n",
       "      <th>2</th>\n",
       "      <td>0.2556</td>\n",
       "      <td>0.3202</td>\n",
       "      <td>[3.0000e+00,2.0201e+01,4.9864e+01,1.1256e+02,2...</td>\n",
       "      <td>[2.3135e+00,1.3451e+00,2.4926e+00,2.1252e+00,4...</td>\n",
       "    </tr>\n",
       "    <tr>\n",
       "      <th>3</th>\n",
       "      <td>0.4339</td>\n",
       "      <td>0.4962</td>\n",
       "      <td>[3.0000e+00,5.0556e+01,1.5932e+02,2.9955e+02,3...</td>\n",
       "      <td>[2.2175e+00,1.3443e+00,5.7604e+00,9.2220e-01,4...</td>\n",
       "    </tr>\n",
       "    <tr>\n",
       "      <th>4</th>\n",
       "      <td>0.3319</td>\n",
       "      <td>0.5602</td>\n",
       "      <td>[3.0000e+00,9.4153e+01,3.0050e+02,4.2637e+02,3...</td>\n",
       "      <td>[1.0167e+00,1.0743e+00,1.6057e+00,2.9621e+00,3...</td>\n",
       "    </tr>\n",
       "  </tbody>\n",
       "</table>\n",
       "</div>"
      ],
      "text/plain": [
       "    alpha    beta                                                  I  \\\n",
       "0  0.3033  0.4228  [3.0000e+00,3.8831e+01,1.1964e+02,2.6545e+02,3...   \n",
       "1  0.2420  0.3849  [3.0000e+00,3.3335e+01,9.9299e+01,2.3250e+02,3...   \n",
       "2  0.2556  0.3202  [3.0000e+00,2.0201e+01,4.9864e+01,1.1256e+02,2...   \n",
       "3  0.4339  0.4962  [3.0000e+00,5.0556e+01,1.5932e+02,2.9955e+02,3...   \n",
       "4  0.3319  0.5602  [3.0000e+00,9.4153e+01,3.0050e+02,4.2637e+02,3...   \n",
       "\n",
       "                                                  li  \n",
       "0  [4.1502e+00,3.4402e+00,1.9559e+00,1.3257e+00,4...  \n",
       "1  [1.3237e+00,2.3424e+00,4.1683e+00,1.4789e+00,1...  \n",
       "2  [2.3135e+00,1.3451e+00,2.4926e+00,2.1252e+00,4...  \n",
       "3  [2.2175e+00,1.3443e+00,5.7604e+00,9.2220e-01,4...  \n",
       "4  [1.0167e+00,1.0743e+00,1.6057e+00,2.9621e+00,3...  "
      ]
     },
     "execution_count": 7,
     "metadata": {},
     "output_type": "execute_result"
    }
   ],
   "source": [
    "alpha = df['alpha'].to_numpy()\n",
    "beta  = df['beta'].to_numpy()\n",
    "li    = np.array([eval(x) for x in df.li])\n",
    "N, K  = li.shape\n",
    "\n",
    "print(li.mean())\n",
    "print('number of parameter points, sample size: %d, %d' % (N, K))\n",
    "df[:5]"
   ]
  },
  {
   "cell_type": "code",
   "execution_count": 8,
   "metadata": {},
   "outputs": [],
   "source": [
    "def compute_coverage(cdf, l, alpha, beta, tau=0.683):\n",
    "    # N: number of parameter points\n",
    "    # K: number of data instances / parameter point\n",
    "    N, K = l.shape\n",
    "    cov  = [0] * N\n",
    "    ecov = [0] * N\n",
    "    for j, x, y in zip(range(N), alpha, beta):\n",
    "        x = np.full((K), x)\n",
    "        y = np.full((K), y)\n",
    "        p = cdf(l[j], x, y)\n",
    "        # compute coverage\n",
    "        cov[j]  = np.mean(p <= tau)\n",
    "        ecov[j] = np.sqrt(cov[j]*(1 - cov[j])/K)\n",
    "    return cov, ecov"
   ]
  },
  {
   "cell_type": "code",
   "execution_count": 9,
   "metadata": {},
   "outputs": [
    {
     "name": "stdout",
     "output_type": "stream",
     "text": [
      "0.683\n",
      "0.8\n",
      "0.9\n",
      "0.95\n",
      "done!\n"
     ]
    }
   ],
   "source": [
    "N   = 500\n",
    "l   = np.array(li) / SIRdata.scale\n",
    "cov = []\n",
    "for t in [0.683, 0.80, 0.90, 0.95]:\n",
    "    print(t)\n",
    "    c, e = compute_coverage(cdf, l[:N], alpha[:N], beta[:N], t)\n",
    "    cov.append((t, c, e))\n",
    "print('done!')"
   ]
  },
  {
   "cell_type": "code",
   "execution_count": 16,
   "metadata": {},
   "outputs": [],
   "source": [
    "def plot_coverage(x, y, N, cov, d, \n",
    "                  filename='fig_SIR_coverage.png', \n",
    "                         fgsize=(10, 5), ftsize=18):\n",
    "\n",
    "    fig, axx = plt.subplots(nrows=1, ncols=2, figsize=fgsize)\n",
    "    \n",
    "    # pad\n",
    "    #plt.subplots_adjust(hspace=0.01)\n",
    "    #plt.subplots_adjust(wspace=0.3)\n",
    "\n",
    "    # plot points in coverage set that have been used.\n",
    "    ax = axx[0]\n",
    "    xmin, xmax = d.xmin, d.xmax\n",
    "    ymin, ymax = d.ymin, d.ymax\n",
    "    \n",
    "    ax.set_xlim(xmin, xmax)\n",
    "    ax.set_xticks([0.2, 0.4, 0.6, 0.8])\n",
    "    ax.set_xlabel(r'$%s$' % d.xlabel, fontsize=ftsize)\n",
    "    \n",
    "    ax.set_ylim(ymin, ymax)\n",
    "    ax.set_yticks([0.3, 0.4, 0.5, 0.6])\n",
    "    ax.set_ylabel(r'$%s$' % d.ylabel, fontsize=ftsize)\n",
    "    \n",
    "    ax.scatter(x[:N], y[:N], \n",
    "               s=2, c='black', #alpha=0.7, \n",
    "               label='95\\% CL set')\n",
    "    ax.legend(fontsize=ftsize)\n",
    "    ax.grid()\n",
    "    \n",
    "    # plot coverage versus parameter point\n",
    "    tau, c, ec = cov[0]\n",
    "    xmin = 0\n",
    "    xmax = len(c)\n",
    "    p  = np.arange(0, xmax, 1)\n",
    "    ax = axx[1]\n",
    "    ax.set_xlim(xmin, xmax)\n",
    "    ax.set_xticks(np.arange(0, 600, 100))\n",
    "    ax.set_xlabel('parameter point', fontsize=ftsize)\n",
    "    \n",
    "    ax.set_ylim(0.5, 1)\n",
    "    ax.set_yticks([0.5, 0.6, 0.7, 0.8, 0.9, 1.0])\n",
    "    ax.set_ylabel('coverage', fontsize=ftsize)\n",
    "    \n",
    "    color = ['red', 'darkorange', 'royalblue', 'darkgreen']\n",
    "    for kolor, (tau, c, ec) in zip(color, cov):\n",
    "        ax.scatter(p, c, s=2, c=kolor)\n",
    "        ax.plot([xmin, xmax], [tau, tau], c=kolor, linewidth=2)\n",
    "\n",
    "    ax.grid() \n",
    "    \n",
    "    plt.tight_layout()\n",
    "    plt.savefig(filename)"
   ]
  },
  {
   "cell_type": "code",
   "execution_count": 17,
   "metadata": {},
   "outputs": [
    {
     "data": {
      "image/png": "[encoded data removed]",
      "text/plain": [
       "<Figure size 1000x500 with 2 Axes>"
      ]
     },
     "metadata": {},
     "output_type": "display_data"
    }
   ],
   "source": [
    "gfile = 'fig_SIR_coverage.pdf'\n",
    "SIRdata.xmin = SIRdata.alpha_min\n",
    "SIRdata.xmax = SIRdata.alpha_max\n",
    "SIRdata.xlabel = '\\\\alpha'\n",
    "\n",
    "SIRdata.ymin = SIRdata.beta_min\n",
    "SIRdata.ymax = SIRdata.beta_max\n",
    "SIRdata.ylabel = '\\\\beta'\n",
    "\n",
    "plot_coverage(alpha, beta, N, cov, SIRdata, filename=gfile)"
   ]
  },
  {
   "cell_type": "code",
   "execution_count": null,
   "metadata": {},
   "outputs": [],
   "source": []
  },
  {
   "cell_type": "code",
   "execution_count": null,
   "metadata": {},
   "outputs": [],
   "source": []
  }
 ],
 "metadata": {
  "accelerator": "GPU",
  "colab": {
   "collapsed_sections": [],
   "name": "DRL_19_REINFORCE_Algorithm.ipynb",
   "provenance": []
  },
  "kernelspec": {
   "display_name": "Python 3 (ipykernel)",
   "language": "python",
   "name": "python3"
  },
  "language_info": {
   "codemirror_mode": {
    "name": "ipython",
    "version": 3
   },
   "file_extension": ".py",
   "mimetype": "text/x-python",
   "name": "python",
   "nbconvert_exporter": "python",
   "pygments_lexer": "ipython3",
   "version": "3.11.5"
  }
 },
 "nbformat": 4,
 "nbformat_minor": 4
}
