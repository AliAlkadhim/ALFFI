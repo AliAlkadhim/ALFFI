{
 "cells": [
  {
   "cell_type": "markdown",
   "metadata": {
    "id": "40Yb47zJQglm"
   },
   "source": [
    "## Simulation-Based Inference SIR Model: Training (critical value)\n",
    "Created: Jan 10, 2024 Ali Al Kadhim and Harrison B. Prosper<br>\n",
    "This is a based on 2_SIR_train_cdf.ipynb\n",
    "\n",
    "### Introduction \n",
    "\n",
    "The purpose of this notebook is to approximate the quantile function $\\lambda = \\text{cdf}^{-1}(\\tau | \\theta)$, that is, the inverse function of the cumulative distribution function $\\tau = \\text{cdf}(\\lambda | \\theta)$, where in this context $\\tau$ is the confidence level. \n",
    "\n",
    "Our test statistic $\\lambda$  is large for parameters $\\theta$ *disfavored* by the data, therefore, a confidence set at whereas in the algorithm of Ref.[1], a modified version of which we use, $\\lambda$ is small for disfavored parameters. Therefore, we're approximating the cumulative distribution function (cdf) rather than the p-value. \n",
    "\n",
    "The stochastic forward simulator $F_\\theta$ is the CTMC simulator in notebook SIR_generate_data.ipynb, which simulates the ensemble of synthetic epidemics.\n",
    "\n",
    "### References\n",
    "  1. Ann Lee *et al.*, https://arxiv.org/abs/2107.03920"
   ]
  },
  {
   "cell_type": "code",
   "execution_count": 2,
   "metadata": {
    "id": "FA1Y5VCv20XZ"
   },
   "outputs": [
    {
     "name": "stdout",
     "output_type": "stream",
     "text": [
      "device: cpu\n"
     ]
    }
   ],
   "source": [
    "import os, sys\n",
    "\n",
    "sys.path.append('../')\n",
    "\n",
    "# the standard module for tabular data\n",
    "import pandas as pd\n",
    "\n",
    "# the standard module for array manipulation\n",
    "import numpy as np\n",
    "\n",
    "# the standard modules for high-quality plots\n",
    "import matplotlib as mp\n",
    "import matplotlib.pyplot as plt\n",
    "\n",
    "# standard scientific python module\n",
    "import scipy as sp\n",
    "import scipy.stats as st\n",
    "import scipy.optimize as op\n",
    "\n",
    "# module to save results\n",
    "#import joblib as jb\n",
    "\n",
    "# pytorch\n",
    "import torch\n",
    "import torch.nn as nn\n",
    "\n",
    "# split data into a training set and a test set\n",
    "from sklearn.model_selection import train_test_split\n",
    "\n",
    "# to reload modules\n",
    "import importlib\n",
    "\n",
    "import SIR_dnn_util as ut\n",
    "from SIR_gen_util import Fsolve, test_statistic, SIRdata\n",
    "\n",
    "%matplotlib inline"
   ]
  },
  {
   "cell_type": "code",
   "execution_count": 3,
   "metadata": {},
   "outputs": [],
   "source": [
    "# update fonts\n",
    "FONTSIZE = 18\n",
    "font = {'family' : 'serif',\n",
    "        'weight' : 'normal',\n",
    "        'size'   : FONTSIZE}\n",
    "mp.rc('font', **font)\n",
    "\n",
    "# set usetex = False if LaTex is not \n",
    "# available on your system or if the \n",
    "# rendering is too slow\n",
    "mp.rc('text', usetex=True)\n",
    "\n",
    "# set a seed to ensure reproducibility\n",
    "seed = 128\n",
    "rnd  = np.random.RandomState(seed)\n",
    "\n",
    "device = ut.device"
   ]
  },
  {
   "cell_type": "markdown",
   "metadata": {},
   "source": [
    "### Load data\n",
    "\n",
    "__Note__: The $\\alpha$ and $\\beta$ parameters have been scaled so that they are of $\\cal{O}(1)$. Therefore, no further transformation is needed."
   ]
  },
  {
   "cell_type": "code",
   "execution_count": 10,
   "metadata": {},
   "outputs": [
    {
     "name": "stdout",
     "output_type": "stream",
     "text": [
      "SIRdata\n",
      " D           : [  3  25  75 227 296 258 236 192 126  71  28  11   7]\n",
      " I0          : 3\n",
      " O           : [  3  25  75 227 296 258 236 192 126  71  28  11   7]\n",
      " R0          : 0\n",
      " S0          : 763\n",
      " T           : [ 0  2  3  4  5  6  7  8  9 10 11 12 13]\n",
      " alpha0      : 0.465\n",
      " alpha_bins  : 10\n",
      " alpha_max   : 0.9\n",
      " alpha_min   : 0.1\n",
      " alpha_scale : 1.0\n",
      " beta0       : 0.00237\n",
      " beta_bins   : 10\n",
      " beta_max    : 0.65\n",
      " beta_min    : 0.25\n",
      " beta_scale  : 0.005\n",
      " model       : SIR\n",
      " scale       : 50\n",
      " tmax        : 14.0\n",
      " tmin        : 0.0\n",
      "\n",
      "\n",
      "loading ../data/SIR_traindata_100k.csv.gz\n",
      "number of rows: 100000\n"
     ]
    },
    {
     "data": {
      "text/html": [
       "<div>\n",
       "<style scoped>\n",
       "    .dataframe tbody tr th:only-of-type {\n",
       "        vertical-align: middle;\n",
       "    }\n",
       "\n",
       "    .dataframe tbody tr th {\n",
       "        vertical-align: top;\n",
       "    }\n",
       "\n",
       "    .dataframe thead th {\n",
       "        text-align: right;\n",
       "    }\n",
       "</style>\n",
       "<table border=\"1\" class=\"dataframe\">\n",
       "  <thead>\n",
       "    <tr style=\"text-align: right;\">\n",
       "      <th></th>\n",
       "      <th>alpha</th>\n",
       "      <th>beta</th>\n",
       "      <th>li</th>\n",
       "      <th>lo</th>\n",
       "      <th>l0</th>\n",
       "      <th>Zo</th>\n",
       "      <th>Z0</th>\n",
       "      <th>i</th>\n",
       "      <th>I</th>\n",
       "      <th>tau</th>\n",
       "    </tr>\n",
       "  </thead>\n",
       "  <tbody>\n",
       "    <tr>\n",
       "      <th>0</th>\n",
       "      <td>0.556824</td>\n",
       "      <td>0.432547</td>\n",
       "      <td>0.017546</td>\n",
       "      <td>0.455190</td>\n",
       "      <td>0.068463</td>\n",
       "      <td>1.0</td>\n",
       "      <td>1.0</td>\n",
       "      <td>[3, 13, 65, 134, 222, 229, 200, 153, 99, 69, 4...</td>\n",
       "      <td>[3.0, 25.41, 66.24, 140.76, 212.17, 226.2, 190...</td>\n",
       "      <td>0.107794</td>\n",
       "    </tr>\n",
       "    <tr>\n",
       "      <th>1</th>\n",
       "      <td>0.917183</td>\n",
       "      <td>0.617733</td>\n",
       "      <td>0.110494</td>\n",
       "      <td>0.172180</td>\n",
       "      <td>0.323215</td>\n",
       "      <td>1.0</td>\n",
       "      <td>1.0</td>\n",
       "      <td>[3, 3, 27, 71, 151, 170, 106, 63, 42, 20, 8, 4...</td>\n",
       "      <td>[3.0, 46.43, 126.68, 188.65, 160.33, 101.22, 5...</td>\n",
       "      <td>0.831288</td>\n",
       "    </tr>\n",
       "    <tr>\n",
       "      <th>2</th>\n",
       "      <td>0.222595</td>\n",
       "      <td>0.684092</td>\n",
       "      <td>0.020499</td>\n",
       "      <td>0.309478</td>\n",
       "      <td>0.178384</td>\n",
       "      <td>1.0</td>\n",
       "      <td>1.0</td>\n",
       "      <td>[3, 286, 527, 507, 413, 337, 273, 222, 172, 14...</td>\n",
       "      <td>[3.0, 232.07, 521.39, 511.27, 423.76, 341.88, ...</td>\n",
       "      <td>0.313061</td>\n",
       "    </tr>\n",
       "    <tr>\n",
       "      <th>3</th>\n",
       "      <td>0.513685</td>\n",
       "      <td>0.231400</td>\n",
       "      <td>0.054771</td>\n",
       "      <td>1.783674</td>\n",
       "      <td>0.630670</td>\n",
       "      <td>1.0</td>\n",
       "      <td>1.0</td>\n",
       "      <td>[3, 4, 6, 2, 5, 8, 7, 13, 29, 44, 50, 67, 85]</td>\n",
       "      <td>[3.0, 6.22, 8.89, 12.59, 17.59, 24.14, 32.47, ...</td>\n",
       "      <td>0.809292</td>\n",
       "    </tr>\n",
       "    <tr>\n",
       "      <th>4</th>\n",
       "      <td>0.533168</td>\n",
       "      <td>0.343659</td>\n",
       "      <td>0.057785</td>\n",
       "      <td>0.553024</td>\n",
       "      <td>0.198700</td>\n",
       "      <td>1.0</td>\n",
       "      <td>1.0</td>\n",
       "      <td>[3, 20, 41, 85, 160, 186, 172, 156, 124, 90, 6...</td>\n",
       "      <td>[3.0, 13.87, 28.69, 55.72, 97.06, 143.04, 172....</td>\n",
       "      <td>0.527562</td>\n",
       "    </tr>\n",
       "  </tbody>\n",
       "</table>\n",
       "</div>"
      ],
      "text/plain": [
       "      alpha      beta        li        lo        l0   Zo   Z0  \\\n",
       "0  0.556824  0.432547  0.017546  0.455190  0.068463  1.0  1.0   \n",
       "1  0.917183  0.617733  0.110494  0.172180  0.323215  1.0  1.0   \n",
       "2  0.222595  0.684092  0.020499  0.309478  0.178384  1.0  1.0   \n",
       "3  0.513685  0.231400  0.054771  1.783674  0.630670  1.0  1.0   \n",
       "4  0.533168  0.343659  0.057785  0.553024  0.198700  1.0  1.0   \n",
       "\n",
       "                                                   i  \\\n",
       "0  [3, 13, 65, 134, 222, 229, 200, 153, 99, 69, 4...   \n",
       "1  [3, 3, 27, 71, 151, 170, 106, 63, 42, 20, 8, 4...   \n",
       "2  [3, 286, 527, 507, 413, 337, 273, 222, 172, 14...   \n",
       "3      [3, 4, 6, 2, 5, 8, 7, 13, 29, 44, 50, 67, 85]   \n",
       "4  [3, 20, 41, 85, 160, 186, 172, 156, 124, 90, 6...   \n",
       "\n",
       "                                                   I       tau  \n",
       "0  [3.0, 25.41, 66.24, 140.76, 212.17, 226.2, 190...  0.107794  \n",
       "1  [3.0, 46.43, 126.68, 188.65, 160.33, 101.22, 5...  0.831288  \n",
       "2  [3.0, 232.07, 521.39, 511.27, 423.76, 341.88, ...  0.313061  \n",
       "3  [3.0, 6.22, 8.89, 12.59, 17.59, 24.14, 32.47, ...  0.809292  \n",
       "4  [3.0, 13.87, 28.69, 55.72, 97.06, 143.04, 172....  0.527562  "
      ]
     },
     "execution_count": 10,
     "metadata": {},
     "output_type": "execute_result"
    }
   ],
   "source": [
    "print('SIRdata')\n",
    "data = SIRdata\n",
    "data.alpha_min,  data.alpha_max = 0.10, 0.90\n",
    "data.beta_min,   data.beta_max  = 0.25, 0.65\n",
    "print(data)\n",
    "print()\n",
    "\n",
    "DSIZE = '100k'\n",
    "\n",
    "datafile = f'../data/SIR_traindata_{DSIZE:s}.csv.gz'\n",
    "\n",
    "print('loading %s' % datafile)\n",
    "df = pd.read_csv(datafile)\n",
    "df['tau'] = np.random.uniform(0, 1, len(df))\n",
    "print('number of rows:', len(df))\n",
    "\n",
    "df[:5]"
   ]
  },
  {
   "cell_type": "code",
   "execution_count": 11,
   "metadata": {},
   "outputs": [],
   "source": [
    "def plot_data(d, filename='../images/fig_SIR_flu_data.pdf', fgsize=(5, 4), ftsize=14):\n",
    "    \n",
    "    fig, ax = plt.subplots(nrows=1, ncols=1, figsize=fgsize)\n",
    "    \n",
    "    # pad\n",
    "    #plt.subplots_adjust(hspace=0.01)\n",
    "    #plt.subplots_adjust(wspace=0.3)\n",
    "\n",
    "    #\n",
    "    xmin, xmax = 0,  18\n",
    "    ymin, ymax = 0, 400\n",
    "\n",
    "    ax.set_xlim(xmin, xmax)\n",
    "    ax.set_xlabel(r'$t$ (day)', fontsize=ftsize)\n",
    "    \n",
    "    ax.set_ylim(ymin, ymax)\n",
    "    ax.set_ylabel(r'infected (count)', fontsize=ftsize)\n",
    "    \n",
    "    ax.scatter(d.T, d.D, s=20, c='black', \n",
    "               label=r'number of individuals in class $I$')\n",
    "    ax.legend(fontsize=14)\n",
    "               \n",
    "    ax.grid() \n",
    "    \n",
    "    plt.tight_layout()\n",
    "    plt.savefig(filename)\n",
    "    print(filename)"
   ]
  },
  {
   "cell_type": "code",
   "execution_count": 12,
   "metadata": {},
   "outputs": [
    {
     "name": "stdout",
     "output_type": "stream",
     "text": [
      "../images/fig_SIR_flu_data.pdf\n"
     ]
    },
    {
     "data": {
      "image/png": "[encoded data removed]",
      "text/plain": [
       "<Figure size 500x400 with 1 Axes>"
      ]
     },
     "metadata": {},
     "output_type": "display_data"
    }
   ],
   "source": [
    "plot_data(SIRdata)"
   ]
  },
  {
   "cell_type": "markdown",
   "metadata": {},
   "source": [
    "### Train, validation, and test sets\n",
    "There is some confusion in terminology regarding validation and test samples (or sets). We shall adhere to the defintions given here https://machinelearningmastery.com/difference-test-validation-datasets/):\n",
    "   \n",
    "  * __Training Dataset__: The sample of data used to fit the model.\n",
    "  * __Validation Dataset__: The sample of data used to decide 1) whether the fit is reasonable (e.g., the model has not been overfitted), 2) decide which of several models is the best and 3) tune model hyperparameters.\n",
    "  * __Test Dataset__: The sample of data used to provide an unbiased evaluation of a final model fit on the training dataset.\n",
    "\n",
    "The validation set will be some small fraction of the training set and can be used, for example, to decide when to stop the training."
   ]
  },
  {
   "cell_type": "code",
   "execution_count": 13,
   "metadata": {},
   "outputs": [
    {
     "name": "stdout",
     "output_type": "stream",
     "text": [
      "train set size:         80000\n",
      "validation set size:     5000\n",
      "test set size:          15000\n",
      "    0\n",
      "saved to file: fig_cset_by_hist.png\n"
     ]
    },
    {
     "data": {
      "image/png": "[encoded data removed]",
      "text/plain": [
       "<Figure size 500x500 with 1 Axes>"
      ]
     },
     "metadata": {},
     "output_type": "display_data"
    }
   ],
   "source": [
    "# Fraction of the data assigned as test data and validation\n",
    "tfraction = 1.5/10 # test fraction, rest for training\n",
    "vfraction = 5/85\n",
    "tdata     = df\n",
    "\n",
    "SIRdata.alpha_bins = 10\n",
    "SIRdata.beta_bins  = 10\n",
    "\n",
    "# Split data into a part for training and a part for testing\n",
    "train_data, valid_data, test_data = ut.split_data(df, \n",
    "                                         test_fraction=tfraction, \n",
    "                                         validation_fraction=vfraction) \n",
    "\n",
    "print('train set size:        %6d' % train_data.shape[0])\n",
    "print('validation set size:   %6d' % valid_data.shape[0])\n",
    "print('test set size:         %6d' % test_data.shape[0])\n",
    "\n",
    "def smooth_hist(tfraction=2/3, K=1, d=SIRdata):\n",
    "    P = np.zeros((data.alpha_bins, d.beta_bins))\n",
    "    for k in range(K):\n",
    "        print('\\r%5d' % k, end='')\n",
    "        _, test   = train_test_split(df, \n",
    "                                 test_size=tfraction, \n",
    "                                 shuffle=True)\n",
    "        p, xe, ye = ut.hist_data(test, SIRdata)\n",
    "        P += p\n",
    "    print()\n",
    "    P /= K\n",
    "    return P, xe, ye\n",
    "\n",
    "hist = smooth_hist()\n",
    "\n",
    "ut.plot_model(tdata, SIRdata, filename='fig_cset_by_hist.png')"
   ]
  },
  {
   "cell_type": "markdown",
   "metadata": {},
   "source": [
    "### Empirical risk (that is, average loss)\n",
    "\n",
    "The empirical risk, which is the __objective function__ we shall minimize, is defined by\n",
    "\n",
    "\\begin{align}\n",
    "R_M(\\theta) & = \\frac{1}{M} \\sum_{m=1}^{M} L(t_m, f_m),\n",
    "\\end{align}\n",
    "\n",
    "where \n",
    "\n",
    "\\begin{align*}\n",
    "    f_m & \\equiv f(\\mathbf{x}_m, \\theta).\n",
    "\\end{align*}\n",
    "\n",
    "The empirical risk $R_M$ approximates the __risk functional__\n",
    "\n",
    "\\begin{align}\n",
    "R[f] & = \\int \\cdots \\int \\, p(t, \\mathbf{x}) \\, L(t, f(\\mathbf{x}, \\theta)) \\, dt \\, d\\mathbf{x} .\n",
    "\\end{align}\n",
    "\n",
    "The quantity $p(t, \\mathbf{x}) \\, dt\\, d\\mathbf{x}$ is the probability distribution from which the sample $\\{ (t_m, \\mathbf{x}_m), m = 1,\\cdots, M \\}$ is presumed to have been drawn. \n",
    "\n",
    "We use the __quantile loss__\n",
    "\n",
    "$$\n",
    "    L{\\tau}(t, f) \\begin{align}\n",
    "    &=\n",
    "    \\begin{cases}\n",
    "        \\tau (t - f ), \\qquad & \\text{if } t > f \\\\\n",
    "         (1-\\tau) (f - t), \\qquad &\\text{otherwise}\n",
    "    \\end{cases}\n",
    "    \\end{align}\n",
    "$$"
   ]
  },
  {
   "cell_type": "markdown",
   "metadata": {
    "id": "NJC916BU-9L6"
   },
   "source": [
    "### Define model $C(\\alpha, \\beta, \\tau; \\omega)$\n",
    "\n",
    "For simple models, it is sufficient to use the __Sequential__ class."
   ]
  },
  {
   "cell_type": "code",
   "execution_count": 16,
   "metadata": {},
   "outputs": [
    {
     "name": "stdout",
     "output_type": "stream",
     "text": [
      "Overwriting ../models/SIR_dnn_quantile_100k.py\n"
     ]
    }
   ],
   "source": [
    "%%writefile ../models/SIR_dnn_quantile_100k.py\n",
    "\n",
    "name     = f'SIR_dnn_quantile_100k'\n",
    "features = ['alpha', 'beta', 'tau']\n",
    "target   = 'li'\n",
    "nodes    = 25\n",
    "\n",
    "import torch\n",
    "import torch.nn as nn\n",
    "\n",
    "model = nn.Sequential(nn.Linear( len(features), nodes),\n",
    "                      nn.ReLU(),\n",
    "                      \n",
    "                      nn.Linear(nodes, nodes),\n",
    "                      nn.ReLU(),\n",
    "                      \n",
    "                      nn.Linear(nodes, nodes),\n",
    "                      nn.ReLU(), \n",
    "                      \n",
    "                      nn.Linear(nodes, nodes),\n",
    "                      nn.ReLU(),                    \n",
    "                      \n",
    "                      nn.Linear(nodes, nodes),\n",
    "                      nn.ReLU(), \n",
    "                      \n",
    "                      nn.Linear(nodes, nodes),\n",
    "                      nn.ReLU(),                    \n",
    "\n",
    "                      nn.Linear(nodes, 1)\n",
    "                     )"
   ]
  },
  {
   "cell_type": "code",
   "execution_count": 17,
   "metadata": {},
   "outputs": [
    {
     "name": "stdout",
     "output_type": "stream",
     "text": [
      "SIR_dnn_quantile_100k\n",
      "Sequential(\n",
      "  (0): Linear(in_features=3, out_features=25, bias=True)\n",
      "  (1): ReLU()\n",
      "  (2): Linear(in_features=25, out_features=25, bias=True)\n",
      "  (3): ReLU()\n",
      "  (4): Linear(in_features=25, out_features=25, bias=True)\n",
      "  (5): ReLU()\n",
      "  (6): Linear(in_features=25, out_features=25, bias=True)\n",
      "  (7): ReLU()\n",
      "  (8): Linear(in_features=25, out_features=25, bias=True)\n",
      "  (9): ReLU()\n",
      "  (10): Linear(in_features=25, out_features=25, bias=True)\n",
      "  (11): ReLU()\n",
      "  (12): Linear(in_features=25, out_features=1, bias=True)\n",
      ")\n",
      "number of parameters: 3376\n"
     ]
    }
   ],
   "source": [
    "import models.SIR_dnn_quantile_100k as NN\n",
    "importlib.reload(NN)\n",
    "name     = NN.name\n",
    "model    = NN.model.to(device)\n",
    "features = NN.features\n",
    "target   = NN.target\n",
    "modelfile  = '../models/%s.dict' % NN.name\n",
    "print(name)\n",
    "print(model)\n",
    "print('number of parameters: %d' % ut.number_of_parameters(model))"
   ]
  },
  {
   "cell_type": "markdown",
   "metadata": {},
   "source": [
    "### Train!"
   ]
  },
  {
   "cell_type": "code",
   "execution_count": 18,
   "metadata": {},
   "outputs": [],
   "source": [
    "traces = ([], [], [])\n",
    "traces_step = 10"
   ]
  },
  {
   "cell_type": "code",
   "execution_count": 19,
   "metadata": {},
   "outputs": [
    {
     "name": "stdout",
     "output_type": "stream",
     "text": [
      "Iteration vs average loss\n",
      "iteration train-set valid-set\n",
      "0        0 0.0478387 0.0485422\n",
      "10       10 0.0180912 0.0183987\n",
      "20       20 0.0163603 0.0164124\n",
      "30       30 0.0153535 0.0154622\n",
      "40       40 0.0152156 0.0154301\n",
      "476130120 0.0101548 0.0102454    476120:    376120/0.01020757/   100000\n",
      "\n",
      "stopping early!\n",
      "\n",
      "Iteration vs average loss\n",
      "iteration train-set valid-set\n",
      "201078130 0.0101384 0.0102155      2000:         0/0.01020702/     2000\n",
      "\n",
      "stopping early!\n",
      "\n"
     ]
    }
   ],
   "source": [
    "n_batch       = 50\n",
    "n_iterations  = 1000000\n",
    "early_stopping= 100000\n",
    "learning_rate = 1.e-3\n",
    "\n",
    "optimizer     = torch.optim.Adam(model.parameters(), \n",
    "                                 lr=learning_rate) \n",
    "\n",
    "traces = ut.train(model, optimizer, \n",
    "                  modelfile, early_stopping,\n",
    "                  ut.average_quantile_loss,\n",
    "                  ut.get_batch, \n",
    "                  train_data, valid_data,\n",
    "                  features, target,\n",
    "                  n_batch, \n",
    "                  n_iterations,\n",
    "                  traces,\n",
    "                  step=traces_step)\n",
    "\n",
    "n_batch       = 500\n",
    "n_iterations  = 50000\n",
    "early_stopping= 2000\n",
    "learning_rate = 1.e-4\n",
    "\n",
    "traces = ut.train(model, optimizer, \n",
    "                  modelfile, early_stopping,\n",
    "                  ut.average_quantile_loss,\n",
    "                  ut.get_batch, \n",
    "                  train_data, valid_data,\n",
    "                  features, target,\n",
    "                  n_batch, \n",
    "                  n_iterations,\n",
    "                  traces,\n",
    "                  step=traces_step)\n",
    "\n"
   ]
  },
  {
   "cell_type": "code",
   "execution_count": 20,
   "metadata": {},
   "outputs": [
    {
     "data": {
      "image/png": "[encoded data removed]",
      "text/plain": [
       "<Figure size 500x500 with 1 Axes>"
      ]
     },
     "metadata": {},
     "output_type": "display_data"
    }
   ],
   "source": [
    "ut.plot_average_loss(traces)"
   ]
  },
  {
   "cell_type": "code",
   "execution_count": 21,
   "metadata": {},
   "outputs": [
    {
     "name": "stdout",
     "output_type": "stream",
     "text": [
      "load model: ../models/SIR_dnn_quantile_100k.dict\n"
     ]
    }
   ],
   "source": [
    "Load_model = True\n",
    "print('load model: %s' % modelfile)\n",
    "\n",
    "if Load_model:\n",
    "    modeldict = torch.load(modelfile)\n",
    "    NN.model.load_state_dict(modeldict)"
   ]
  },
  {
   "cell_type": "code",
   "execution_count": 22,
   "metadata": {},
   "outputs": [],
   "source": [
    "def quantile(x, y, z):\n",
    "    X = np.array([x, y, z]).T\n",
    "    inputs = torch.Tensor(X)\n",
    "    # go to evaluation mode\n",
    "    model.eval()\n",
    "    \n",
    "    # compute,reshape to a 1d array, and convert to a numpy array\n",
    "    Y = model(inputs).view(-1,).detach().numpy()\n",
    "    if len(Y) == 1:\n",
    "        return Y[0]\n",
    "    else:\n",
    "        return Y"
   ]
  },
  {
   "cell_type": "code",
   "execution_count": 23,
   "metadata": {},
   "outputs": [
    {
     "name": "stdout",
     "output_type": "stream",
     "text": [
      "coverage: 0.678\n"
     ]
    }
   ],
   "source": [
    "CL = 0.68\n",
    "alpha = df['alpha']\n",
    "beta  = df['beta']\n",
    "li    = df['li']\n",
    "tau   = np.full_like(alpha, CL)\n",
    "\n",
    "c     = quantile(alpha, beta, tau)\n",
    "cov   =(li <= c).mean()\n",
    "print(f'coverage: {cov:5.3f}')"
   ]
  },
  {
   "cell_type": "code",
   "execution_count": null,
   "metadata": {},
   "outputs": [],
   "source": []
  }
 ],
 "metadata": {
  "@webio": {
   "lastCommId": null,
   "lastKernelId": null
  },
  "accelerator": "GPU",
  "colab": {
   "collapsed_sections": [],
   "name": "DRL_19_REINFORCE_Algorithm.ipynb",
   "provenance": []
  },
  "kernelspec": {
   "display_name": "Python 3 (ipykernel)",
   "language": "python",
   "name": "python3"
  },
  "language_info": {
   "codemirror_mode": {
    "name": "ipython",
    "version": 3
   },
   "file_extension": ".py",
   "mimetype": "text/x-python",
   "name": "python",
   "nbconvert_exporter": "python",
   "pygments_lexer": "ipython3",
   "version": "3.11.7"
  }
 },
 "nbformat": 4,
 "nbformat_minor": 4
}
