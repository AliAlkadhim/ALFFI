{
 "cells": [
  {
   "cell_type": "markdown",
   "metadata": {
    "id": "40Yb47zJQglm"
   },
   "source": [
    "## Simulation-Based Inference SIR Model: Training\n",
    "Created: May 23, 2022 Prosper and Prosper<br>\n",
    "Updated: Apr 05, 2023 HBP\n",
    "\n",
    "### Introduction \n",
    "\n",
    "The purpose of this notebook is to approximate $\\mathbb{P}(\\lambda \\le \\lambda_0 | \\theta) = \\mathbb{E}(Z | \\theta)$ in two different ways: 1) using a 2D histogram and 2) a neural network, where for a given hypothesis $H_0: \\theta = \\theta_0$ versus $H_1: \\theta \\ne \\theta_0$, $\\lambda_0$ is the observed value of the test statistic $\\lambda$ (see SIR_generate_data.ipynb for details.)\n",
    "\n",
    "Our test statistic $\\lambda$  is large for parameters $\\theta$ *disfavored* by the data, whereas in the algorithm listed below[1], a modified version of we introduce, $\\lambda$ is small for disfavored parameters. Therefore, we're approximating the cumulative distribution function (cdf) rather than the p-value. \n",
    "\n",
    "The stochastic forward simulator $F_\\theta$ is the CTMC simulator in notebook SIR_generate_data.ipynb, which simulates the ensemble of synthetic epidemics.\n",
    "\n",
    "\n",
    "### Approximating $\\mathbb{P}(\\lambda \\le \\lambda_0 | \\theta) = \\mathbb{E}(Z | \\theta)$ by histogramming\n",
    "\n",
    "The quantity $\\mathbb{E}(Z | \\theta)$ can be approximated using the following algorithm, which therefore provides a way to check the quality of the deep neural network model.\n",
    "\n",
    "$\\theta = \\alpha, \\beta$\n",
    "\n",
    "  1. Create histogram $h_w \\gets \\text{histogram}(\\alpha, \\beta, \\text{weight}=Z)$\n",
    "  1. Create histogram $h_u \\gets \\text{histogram}(\\alpha, \\beta, \\text{weight}=1)$\n",
    "  1. Approximate $\\mathbb{P}(\\lambda \\le \\lambda_0 | \\alpha, \\beta)$ by $h_w \\, / \\, h_u$\n",
    "\n",
    "### References\n",
    "  1. Anne Lee *et al.*, https://arxiv.org/abs/2107.03920"
   ]
  },
  {
   "cell_type": "code",
   "execution_count": 7,
   "metadata": {
    "id": "FA1Y5VCv20XZ"
   },
   "outputs": [],
   "source": [
    "import os, sys\n",
    "\n",
    "sys.path.append('../')\n",
    "\n",
    "# the standard module for tabular data\n",
    "import pandas as pd\n",
    "\n",
    "# the standard module for array manipulation\n",
    "import numpy as np\n",
    "\n",
    "# the standard modules for high-quality plots\n",
    "import matplotlib as mp\n",
    "import matplotlib.pyplot as plt\n",
    "\n",
    "# standard scientific python module\n",
    "import scipy as sp\n",
    "import scipy.stats as st\n",
    "import scipy.optimize as op\n",
    "\n",
    "# module to save results\n",
    "#import joblib as jb\n",
    "\n",
    "# pytorch\n",
    "import torch\n",
    "import torch.nn as nn\n",
    "\n",
    "# split data into a training set and a test set\n",
    "from sklearn.model_selection import train_test_split\n",
    "\n",
    "# to reload modules\n",
    "import importlib\n",
    "\n",
    "import SIR_dnn_util as ut\n",
    "from SIR_gen_util import Fsolve, test_statistic, SIRdata\n",
    "\n",
    "%matplotlib inline"
   ]
  },
  {
   "cell_type": "code",
   "execution_count": 4,
   "metadata": {},
   "outputs": [],
   "source": [
    "# update fonts\n",
    "FONTSIZE = 18\n",
    "font = {'family' : 'serif',\n",
    "        'weight' : 'normal',\n",
    "        'size'   : FONTSIZE}\n",
    "mp.rc('font', **font)\n",
    "\n",
    "# set usetex = False if LaTex is not \n",
    "# available on your system or if the \n",
    "# rendering is too slow\n",
    "mp.rc('text', usetex=True)\n",
    "\n",
    "# set a seed to ensure reproducibility\n",
    "seed = 128\n",
    "rnd  = np.random.RandomState(seed)"
   ]
  },
  {
   "cell_type": "markdown",
   "metadata": {
    "id": "NJC916BU-9L6"
   },
   "source": [
    "### Define model $f(\\alpha, \\beta, \\lambda; \\omega)$\n",
    "\n",
    "For simple models, it is sufficient to use the __Sequential__ class."
   ]
  },
  {
   "cell_type": "code",
   "execution_count": 5,
   "metadata": {},
   "outputs": [
    {
     "name": "stdout",
     "output_type": "stream",
     "text": [
      "Writing ../models/SIR_dnn_cdf_800K.py\n"
     ]
    }
   ],
   "source": [
    "%%writefile ../models/SIR_dnn_cdf_800K.py\n",
    "\n",
    "name     = 'SIR_dnn_cdf_800K'\n",
    "features = ['lo', 'alpha', 'beta']\n",
    "target   = 'Zo'\n",
    "nodes    = 25\n",
    "\n",
    "import torch\n",
    "import torch.nn as nn\n",
    "\n",
    "model = nn.Sequential(nn.Linear( len(features), nodes),\n",
    "                      nn.ReLU(),\n",
    "                      \n",
    "                      nn.Linear(nodes, nodes),\n",
    "                      nn.ReLU(),\n",
    "                      \n",
    "                      nn.Linear(nodes, nodes),\n",
    "                      nn.ReLU(), \n",
    "                      \n",
    "                      nn.Linear(nodes, nodes),\n",
    "                      nn.ReLU(),                    \n",
    "                      \n",
    "                      nn.Linear(nodes, nodes),\n",
    "                      nn.ReLU(), \n",
    "                      \n",
    "                      nn.Linear(nodes, nodes),\n",
    "                      nn.ReLU(),                    \n",
    "                      \n",
    "                      nn.Linear(nodes, 1), \n",
    "                      nn.Sigmoid()) "
   ]
  },
  {
   "cell_type": "code",
   "execution_count": 8,
   "metadata": {},
   "outputs": [
    {
     "name": "stdout",
     "output_type": "stream",
     "text": [
      "SIR_dnn_cdf_800K\n",
      "Sequential(\n",
      "  (0): Linear(in_features=3, out_features=25, bias=True)\n",
      "  (1): ReLU()\n",
      "  (2): Linear(in_features=25, out_features=25, bias=True)\n",
      "  (3): ReLU()\n",
      "  (4): Linear(in_features=25, out_features=25, bias=True)\n",
      "  (5): ReLU()\n",
      "  (6): Linear(in_features=25, out_features=25, bias=True)\n",
      "  (7): ReLU()\n",
      "  (8): Linear(in_features=25, out_features=25, bias=True)\n",
      "  (9): ReLU()\n",
      "  (10): Linear(in_features=25, out_features=25, bias=True)\n",
      "  (11): ReLU()\n",
      "  (12): Linear(in_features=25, out_features=1, bias=True)\n",
      "  (13): Sigmoid()\n",
      ")\n",
      "number of parameters: 3376\n"
     ]
    }
   ],
   "source": [
    "import models.SIR_dnn_cdf_800K as NN\n",
    "importlib.reload(NN)\n",
    "name     = NN.name\n",
    "model    = NN.model\n",
    "features = NN.features\n",
    "target   = NN.target\n",
    "modelfile  = '%s.dict' % NN.name\n",
    "print(name)\n",
    "print(model)\n",
    "print('number of parameters: %d' % ut.number_of_parameters(model))"
   ]
  },
  {
   "cell_type": "markdown",
   "metadata": {},
   "source": [
    "### Load data\n",
    "\n",
    "__Note__: The $\\alpha$ and $\\beta$ parameters have been scaled so that they are of $\\cal{O}(1)$. Therefore, no further transformation is needed."
   ]
  },
  {
   "cell_type": "code",
   "execution_count": 9,
   "metadata": {},
   "outputs": [
    {
     "name": "stdout",
     "output_type": "stream",
     "text": [
      "SIRdata\n",
      " D           : [  3  25  75 227 296 258 236 192 126  71  28  11   7]\n",
      " I0          : 3\n",
      " O           : [  3  25  75 227 296 258 236 192 126  71  28  11   7]\n",
      " R0          : 0\n",
      " S0          : 763\n",
      " T           : [ 0  2  3  4  5  6  7  8  9 10 11 12 13]\n",
      " alpha0      : 0.465\n",
      " alpha_bins  : 16\n",
      " alpha_max   : 0.9\n",
      " alpha_min   : 0.1\n",
      " alpha_scale : 1.0\n",
      " beta0       : 0.00237\n",
      " beta_bins   : 16\n",
      " beta_max    : 0.65\n",
      " beta_min    : 0.25\n",
      " beta_scale  : 0.005\n",
      " model       : SIR\n",
      " scale       : 50\n",
      " tmax        : 14.0\n",
      " tmin        : 0.0\n",
      "\n",
      "\n",
      "loading ../data/SIR_traindata_800k.csv\n",
      "number of rows: 800000\n"
     ]
    },
    {
     "data": {
      "text/html": [
       "<div>\n",
       "<style scoped>\n",
       "    .dataframe tbody tr th:only-of-type {\n",
       "        vertical-align: middle;\n",
       "    }\n",
       "\n",
       "    .dataframe tbody tr th {\n",
       "        vertical-align: top;\n",
       "    }\n",
       "\n",
       "    .dataframe thead th {\n",
       "        text-align: right;\n",
       "    }\n",
       "</style>\n",
       "<table border=\"1\" class=\"dataframe\">\n",
       "  <thead>\n",
       "    <tr style=\"text-align: right;\">\n",
       "      <th></th>\n",
       "      <th>Unnamed: 0</th>\n",
       "      <th>alpha</th>\n",
       "      <th>beta</th>\n",
       "      <th>xi</th>\n",
       "      <th>li</th>\n",
       "      <th>l0</th>\n",
       "      <th>lo</th>\n",
       "      <th>Z0</th>\n",
       "      <th>Zo</th>\n",
       "    </tr>\n",
       "  </thead>\n",
       "  <tbody>\n",
       "    <tr>\n",
       "      <th>0</th>\n",
       "      <td>0</td>\n",
       "      <td>0.303317</td>\n",
       "      <td>0.422783</td>\n",
       "      <td>[3, 16, 52, 110, 245, 348, 368, 310, 240, 179,...</td>\n",
       "      <td>4.379502</td>\n",
       "      <td>5.116309</td>\n",
       "      <td>0.238410</td>\n",
       "      <td>1</td>\n",
       "      <td>1</td>\n",
       "    </tr>\n",
       "    <tr>\n",
       "      <th>1</th>\n",
       "      <td>1</td>\n",
       "      <td>0.896044</td>\n",
       "      <td>0.309270</td>\n",
       "      <td>[3, 0, 0, 0, 0, 0, 0, 0, 0, 0, 0, 0, 0]</td>\n",
       "      <td>4.018788</td>\n",
       "      <td>41.881590</td>\n",
       "      <td>1.836105</td>\n",
       "      <td>1</td>\n",
       "      <td>1</td>\n",
       "    </tr>\n",
       "    <tr>\n",
       "      <th>2</th>\n",
       "      <td>2</td>\n",
       "      <td>0.210181</td>\n",
       "      <td>0.561672</td>\n",
       "      <td>[3, 28, 159, 418, 480, 457, 375, 297, 244, 203...</td>\n",
       "      <td>4.526100</td>\n",
       "      <td>8.810860</td>\n",
       "      <td>0.084874</td>\n",
       "      <td>1</td>\n",
       "      <td>0</td>\n",
       "    </tr>\n",
       "    <tr>\n",
       "      <th>3</th>\n",
       "      <td>3</td>\n",
       "      <td>0.559625</td>\n",
       "      <td>0.306321</td>\n",
       "      <td>[3, 9, 13, 16, 18, 26, 45, 76, 99, 112, 108, 1...</td>\n",
       "      <td>3.515383</td>\n",
       "      <td>16.400865</td>\n",
       "      <td>0.129759</td>\n",
       "      <td>1</td>\n",
       "      <td>1</td>\n",
       "    </tr>\n",
       "    <tr>\n",
       "      <th>4</th>\n",
       "      <td>4</td>\n",
       "      <td>0.407705</td>\n",
       "      <td>0.620262</td>\n",
       "      <td>[3, 118, 312, 388, 316, 219, 148, 105, 68, 48,...</td>\n",
       "      <td>0.526044</td>\n",
       "      <td>6.548893</td>\n",
       "      <td>0.126752</td>\n",
       "      <td>1</td>\n",
       "      <td>1</td>\n",
       "    </tr>\n",
       "  </tbody>\n",
       "</table>\n",
       "</div>"
      ],
      "text/plain": [
       "   Unnamed: 0     alpha      beta  \\\n",
       "0           0  0.303317  0.422783   \n",
       "1           1  0.896044  0.309270   \n",
       "2           2  0.210181  0.561672   \n",
       "3           3  0.559625  0.306321   \n",
       "4           4  0.407705  0.620262   \n",
       "\n",
       "                                                  xi        li         l0  \\\n",
       "0  [3, 16, 52, 110, 245, 348, 368, 310, 240, 179,...  4.379502   5.116309   \n",
       "1            [3, 0, 0, 0, 0, 0, 0, 0, 0, 0, 0, 0, 0]  4.018788  41.881590   \n",
       "2  [3, 28, 159, 418, 480, 457, 375, 297, 244, 203...  4.526100   8.810860   \n",
       "3  [3, 9, 13, 16, 18, 26, 45, 76, 99, 112, 108, 1...  3.515383  16.400865   \n",
       "4  [3, 118, 312, 388, 316, 219, 148, 105, 68, 48,...  0.526044   6.548893   \n",
       "\n",
       "         lo  Z0  Zo  \n",
       "0  0.238410   1   1  \n",
       "1  1.836105   1   1  \n",
       "2  0.084874   1   0  \n",
       "3  0.129759   1   1  \n",
       "4  0.126752   1   1  "
      ]
     },
     "execution_count": 9,
     "metadata": {},
     "output_type": "execute_result"
    }
   ],
   "source": [
    "print('SIRdata')\n",
    "data = SIRdata\n",
    "data.alpha_min,  data.alpha_max = 0.10, 0.90\n",
    "data.beta_min,   data.beta_max  = 0.25, 0.65\n",
    "print(data)\n",
    "print()\n",
    "\n",
    "datafile = '../data/SIR_traindata_800k.csv'\n",
    "\n",
    "print('loading %s' % datafile)\n",
    "df = pd.read_csv(datafile)\n",
    "print('number of rows:', len(df))\n",
    "\n",
    "df[:5]"
   ]
  },
  {
   "cell_type": "code",
   "execution_count": 10,
   "metadata": {},
   "outputs": [],
   "source": [
    "def plot_data(d, filename='../images/fig_SIR_flu_data.pdf', fgsize=(5, 4), ftsize=14):\n",
    "    \n",
    "    fig, ax = plt.subplots(nrows=1, ncols=1, figsize=fgsize)\n",
    "    \n",
    "    # pad\n",
    "    #plt.subplots_adjust(hspace=0.01)\n",
    "    #plt.subplots_adjust(wspace=0.3)\n",
    "\n",
    "    #\n",
    "    xmin, xmax = 0,  18\n",
    "    ymin, ymax = 0, 400\n",
    "\n",
    "    ax.set_xlim(xmin, xmax)\n",
    "    ax.set_xlabel(r'$t$ (day)', fontsize=ftsize)\n",
    "    \n",
    "    ax.set_ylim(ymin, ymax)\n",
    "    ax.set_ylabel(r'infected (count)', fontsize=ftsize)\n",
    "    \n",
    "    ax.scatter(d.T, d.D, s=20, c='black', \n",
    "               label=r'number of individuals in class $I$')\n",
    "    ax.legend(fontsize=14)\n",
    "               \n",
    "    ax.grid() \n",
    "    \n",
    "    plt.tight_layout()\n",
    "    plt.savefig(filename)\n",
    "    print(filename)"
   ]
  },
  {
   "cell_type": "code",
   "execution_count": 11,
   "metadata": {},
   "outputs": [
    {
     "name": "stdout",
     "output_type": "stream",
     "text": [
      "../images/fig_SIR_flu_data.pdf\n"
     ]
    },
    {
     "data": {
      "image/png": "[encoded data removed]",
      "text/plain": [
       "<Figure size 500x400 with 1 Axes>"
      ]
     },
     "metadata": {},
     "output_type": "display_data"
    }
   ],
   "source": [
    "plot_data(SIRdata)"
   ]
  },
  {
   "cell_type": "markdown",
   "metadata": {},
   "source": [
    "### Train, validation, and test sets\n",
    "There is some confusion in terminology regarding validation and test samples (or sets). We shall adhere to the defintions given here https://machinelearningmastery.com/difference-test-validation-datasets/):\n",
    "   \n",
    "  * __Training Dataset__: The sample of data used to fit the model.\n",
    "  * __Validation Dataset__: The sample of data used to decide 1) whether the fit is reasonable (e.g., the model has not been overfitted), 2) decide which of several models is the best and 3) tune model hyperparameters.\n",
    "  * __Test Dataset__: The sample of data used to provide an unbiased evaluation of a final model fit on the training dataset.\n",
    "\n",
    "The validation set will be some small fraction of the training set and can be used, for example, to decide when to stop the training."
   ]
  },
  {
   "cell_type": "code",
   "execution_count": 12,
   "metadata": {},
   "outputs": [
    {
     "name": "stdout",
     "output_type": "stream",
     "text": [
      "train set size:        750000\n",
      "validation set size:     5000\n",
      "test set size:          45000\n",
      "    0\n",
      "saved to file: fig_hist_SIR_dnn_cdf_800K.png\n"
     ]
    },
    {
     "data": {
      "image/png": "[encoded data removed]",
      "text/plain": [
       "<Figure size 500x500 with 1 Axes>"
      ]
     },
     "metadata": {},
     "output_type": "display_data"
    }
   ],
   "source": [
    "# Fraction of the data assigned as test data and validation\n",
    "tfraction = 45/800\n",
    "vfraction =  5/755\n",
    "tdata     = df\n",
    "\n",
    "SIRdata.alpha_bins = 10\n",
    "SIRdata.beta_bins  = 10\n",
    "\n",
    "# Split data into a part for training and a part for testing\n",
    "train_data, valid_data, test_data = ut.split_data(df, \n",
    "                                         test_fraction=tfraction, \n",
    "                                         validation_fraction=vfraction) \n",
    "\n",
    "print('train set size:        %6d' % train_data.shape[0])\n",
    "print('validation set size:   %6d' % valid_data.shape[0])\n",
    "print('test set size:         %6d' % test_data.shape[0])\n",
    "\n",
    "def smooth_hist(tfraction=250/275, K=1, d=SIRdata):\n",
    "    P = np.zeros((data.alpha_bins, d.beta_bins))\n",
    "    for k in range(K):\n",
    "        print('\\r%5d' % k, end='')\n",
    "        _, test   = train_test_split(df, \n",
    "                                 test_size=tfraction, \n",
    "                                 shuffle=True)\n",
    "        p, xe, ye = ut.hist_data(test, SIRdata)\n",
    "        P += p\n",
    "    print()\n",
    "    P /= K\n",
    "    return P, xe, ye\n",
    "\n",
    "hist = smooth_hist()\n",
    "\n",
    "ut.plot_model(tdata, SIRdata, \n",
    "              filename='fig_hist_%s.png' % NN.name)"
   ]
  },
  {
   "cell_type": "markdown",
   "metadata": {},
   "source": [
    "### Empirical risk (that is, average loss)\n",
    "\n",
    "The empirical risk, which is the __objective function__ we shall minimize, is defined by\n",
    "\n",
    "\\begin{align}\n",
    "R_M(\\theta) & = \\frac{1}{M} \\sum_{m=1}^{M} L(t_m, f_m),\n",
    "\\end{align}\n",
    "\n",
    "where \n",
    "\n",
    "\\begin{align*}\n",
    "    f_m & \\equiv f(\\mathbf{x}_m, \\theta).\n",
    "\\end{align*}\n",
    "\n",
    "The empirical risk $R_M$ approximates the __risk functional__\n",
    "\n",
    "\\begin{align}\n",
    "R[f] & = \\int \\cdots \\int \\, p(t, \\mathbf{x}) \\, L(t, f(\\mathbf{x}, \\theta)) \\, dt \\, d\\mathbf{x} .\n",
    "\\end{align}\n",
    "\n",
    "The quantity $p(t, \\mathbf{x}) \\, dt\\, d\\mathbf{x}$ is the probability distribution from which the sample $\\{ (t_m, \\mathbf{x}_m), m = 1,\\cdots, M \\}$ is presumed to have been drawn. \n",
    "\n",
    "We use the __quadratic loss__\n",
    "\n",
    "\\begin{align}\n",
    "    L(t, f) &= (t - f)^2 .\n",
    "\\end{align}"
   ]
  },
  {
   "cell_type": "markdown",
   "metadata": {},
   "source": [
    "### Train!"
   ]
  },
  {
   "cell_type": "code",
   "execution_count": 13,
   "metadata": {},
   "outputs": [],
   "source": [
    "traces = ([], [], [])\n",
    "traces_step = 10"
   ]
  },
  {
   "cell_type": "code",
   "execution_count": 14,
   "metadata": {},
   "outputs": [
    {
     "name": "stdout",
     "output_type": "stream",
     "text": [
      "Iteration vs average loss\n",
      "iteration train-set valid-set\n",
      "        0 0.2409548 0.2409542\n",
      "       10 0.2217185 0.2217102\n",
      "       20 0.2016223 0.2016122\n",
      "       30 0.1758272 0.1758637\n",
      "       40 0.1349301 0.1351146\n",
      "   201280 0.0344398 0.0352189    201280:    151280/0.03482759/    50000\n",
      "\n",
      "stopping early!\n",
      "\n",
      "Iteration vs average loss\n",
      "iteration train-set valid-set\n",
      "   290290 0.0344103 0.0350109     89000:     39000/0.03463091/    50000\n",
      "\n",
      "stopping early!\n",
      "\n"
     ]
    },
    {
     "data": {
      "image/png": "[encoded data removed]",
      "text/plain": [
       "<Figure size 500x500 with 1 Axes>"
      ]
     },
     "metadata": {},
     "output_type": "display_data"
    }
   ],
   "source": [
    "n_batch       = 50\n",
    "n_iterations  = 5000000\n",
    "early_stopping= 50000\n",
    "learning_rate = 1.e-3\n",
    "\n",
    "optimizer     = torch.optim.Adam(model.parameters(), \n",
    "                                 lr=learning_rate) \n",
    "\n",
    "traces = ut.train(model, optimizer, \n",
    "                  modelfile, early_stopping,\n",
    "                  ut.average_quadratic_loss,\n",
    "                  ut.get_batch, \n",
    "                  train_data, valid_data,\n",
    "                  features, target,\n",
    "                  n_batch, \n",
    "                  n_iterations,\n",
    "                  traces,\n",
    "                  step=traces_step)\n",
    "\n",
    "n_batch       = 500\n",
    "n_iterations  = 5000000\n",
    "early_stopping= 50000\n",
    "learning_rate = 1.e-4\n",
    "\n",
    "traces = ut.train(model, optimizer, \n",
    "                  modelfile, early_stopping,\n",
    "                  ut.average_quadratic_loss,\n",
    "                  ut.get_batch, \n",
    "                  train_data, valid_data,\n",
    "                  features, target,\n",
    "                  n_batch, \n",
    "                  n_iterations,\n",
    "                  traces,\n",
    "                  step=traces_step)\n",
    "\n",
    "ut.plot_average_loss(traces)"
   ]
  },
  {
   "cell_type": "markdown",
   "metadata": {},
   "source": [
    "### Plot results of trained model"
   ]
  },
  {
   "cell_type": "code",
   "execution_count": 15,
   "metadata": {},
   "outputs": [],
   "source": [
    "import SIR_gen_util as gt\n",
    "importlib.reload(gt)\n",
    "\n",
    "def dnn(x, y, d, f=model):\n",
    "    l = np.array(gt.test_statistic(x, y, d))\n",
    "    I = np.array([l, x, y]).T\n",
    "    X = torch.Tensor(I)\n",
    "    \n",
    "    # go to evaluation mode\n",
    "    model.eval()\n",
    "    \n",
    "    # compute,reshape to a 1d array, and convert to a numpy array\n",
    "    Y = model(X).view(-1,).detach().numpy()\n",
    "    if len(Y) == 1:\n",
    "        return Y[0]\n",
    "    else:\n",
    "        return Y"
   ]
  },
  {
   "cell_type": "code",
   "execution_count": 16,
   "metadata": {},
   "outputs": [
    {
     "name": "stdout",
     "output_type": "stream",
     "text": [
      "load model: SIR_dnn_cdf_800K.dict\n"
     ]
    }
   ],
   "source": [
    "Load_model = True\n",
    "print('load model: %s' % modelfile)\n",
    "\n",
    "if Load_model:\n",
    "    modeldict = torch.load(modelfile)\n",
    "    NN.model.load_state_dict(modeldict)"
   ]
  },
  {
   "cell_type": "code",
   "execution_count": 17,
   "metadata": {},
   "outputs": [
    {
     "name": "stdout",
     "output_type": "stream",
     "text": [
      "device: cpu\n",
      "alpha:      0.468, beta:      0.445*5.0e-03, min(fun):      0.468\n",
      "                   beta:      0.00222\n",
      "saved to file: ../images/fig_SIR_dnn_cdf_800K.pdf\n"
     ]
    },
    {
     "data": {
      "image/png": "[encoded data removed]",
      "text/plain": [
       "<Figure size 500x500 with 1 Axes>"
      ]
     },
     "metadata": {},
     "output_type": "display_data"
    }
   ],
   "source": [
    "import SIR_dnn_util as ut\n",
    "importlib.reload(ut)\n",
    "\n",
    "SIRdata.O = SIRdata.D\n",
    "res = ut.best_fit(ut.nll, dnn, SIRdata)\n",
    "\n",
    "ut.plot_model(test_data, SIRdata, dnn, res, hist=hist,\n",
    "              filename='../images/fig_%s.pdf' % NN.name)"
   ]
  },
  {
   "cell_type": "code",
   "execution_count": 21,
   "metadata": {
    "tags": []
   },
   "outputs": [
    {
     "data": {
      "text/html": [
       "<div>\n",
       "<style scoped>\n",
       "    .dataframe tbody tr th:only-of-type {\n",
       "        vertical-align: middle;\n",
       "    }\n",
       "\n",
       "    .dataframe tbody tr th {\n",
       "        vertical-align: top;\n",
       "    }\n",
       "\n",
       "    .dataframe thead th {\n",
       "        text-align: right;\n",
       "    }\n",
       "</style>\n",
       "<table border=\"1\" class=\"dataframe\">\n",
       "  <thead>\n",
       "    <tr style=\"text-align: right;\">\n",
       "      <th></th>\n",
       "      <th>Unnamed: 0</th>\n",
       "      <th>alpha</th>\n",
       "      <th>beta</th>\n",
       "      <th>xi</th>\n",
       "      <th>li</th>\n",
       "      <th>l0</th>\n",
       "      <th>lo</th>\n",
       "      <th>Z0</th>\n",
       "      <th>Zo</th>\n",
       "    </tr>\n",
       "  </thead>\n",
       "  <tbody>\n",
       "    <tr>\n",
       "      <th>0</th>\n",
       "      <td>576255</td>\n",
       "      <td>0.928250</td>\n",
       "      <td>0.476704</td>\n",
       "      <td>[3, 5, 6, 23, 62, 113, 129, 107, 85, 47, 22, 9...</td>\n",
       "      <td>3.259593</td>\n",
       "      <td>10.703961</td>\n",
       "      <td>0.256856</td>\n",
       "      <td>1</td>\n",
       "      <td>1</td>\n",
       "    </tr>\n",
       "    <tr>\n",
       "      <th>1</th>\n",
       "      <td>256756</td>\n",
       "      <td>0.031709</td>\n",
       "      <td>0.294057</td>\n",
       "      <td>[3, 26, 88, 224, 426, 573, 637, 667, 660, 644,...</td>\n",
       "      <td>1.491249</td>\n",
       "      <td>16.319836</td>\n",
       "      <td>0.350715</td>\n",
       "      <td>1</td>\n",
       "      <td>1</td>\n",
       "    </tr>\n",
       "    <tr>\n",
       "      <th>2</th>\n",
       "      <td>479232</td>\n",
       "      <td>0.995460</td>\n",
       "      <td>0.493564</td>\n",
       "      <td>[3, 10, 21, 35, 48, 69, 78, 92, 66, 48, 24, 18...</td>\n",
       "      <td>3.054364</td>\n",
       "      <td>11.768685</td>\n",
       "      <td>0.201637</td>\n",
       "      <td>1</td>\n",
       "      <td>1</td>\n",
       "    </tr>\n",
       "    <tr>\n",
       "      <th>3</th>\n",
       "      <td>508733</td>\n",
       "      <td>0.683665</td>\n",
       "      <td>0.418890</td>\n",
       "      <td>[3, 26, 62, 109, 148, 152, 127, 109, 72, 44, 2...</td>\n",
       "      <td>1.939065</td>\n",
       "      <td>7.176297</td>\n",
       "      <td>0.290459</td>\n",
       "      <td>1</td>\n",
       "      <td>1</td>\n",
       "    </tr>\n",
       "    <tr>\n",
       "      <th>4</th>\n",
       "      <td>183247</td>\n",
       "      <td>0.627804</td>\n",
       "      <td>0.412014</td>\n",
       "      <td>[3, 6, 21, 34, 91, 150, 206, 189, 142, 91, 63,...</td>\n",
       "      <td>3.444772</td>\n",
       "      <td>6.108885</td>\n",
       "      <td>0.175708</td>\n",
       "      <td>1</td>\n",
       "      <td>1</td>\n",
       "    </tr>\n",
       "    <tr>\n",
       "      <th>...</th>\n",
       "      <td>...</td>\n",
       "      <td>...</td>\n",
       "      <td>...</td>\n",
       "      <td>...</td>\n",
       "      <td>...</td>\n",
       "      <td>...</td>\n",
       "      <td>...</td>\n",
       "      <td>...</td>\n",
       "      <td>...</td>\n",
       "    </tr>\n",
       "    <tr>\n",
       "      <th>44995</th>\n",
       "      <td>733394</td>\n",
       "      <td>0.191557</td>\n",
       "      <td>0.532225</td>\n",
       "      <td>[3, 120, 367, 521, 499, 410, 330, 265, 224, 17...</td>\n",
       "      <td>1.442266</td>\n",
       "      <td>9.405879</td>\n",
       "      <td>0.351155</td>\n",
       "      <td>1</td>\n",
       "      <td>1</td>\n",
       "    </tr>\n",
       "    <tr>\n",
       "      <th>44996</th>\n",
       "      <td>118068</td>\n",
       "      <td>0.772784</td>\n",
       "      <td>0.507510</td>\n",
       "      <td>[3, 55, 120, 174, 185, 139, 82, 42, 20, 11, 5,...</td>\n",
       "      <td>2.901430</td>\n",
       "      <td>7.705809</td>\n",
       "      <td>0.161502</td>\n",
       "      <td>1</td>\n",
       "      <td>1</td>\n",
       "    </tr>\n",
       "    <tr>\n",
       "      <th>44997</th>\n",
       "      <td>463840</td>\n",
       "      <td>0.271602</td>\n",
       "      <td>0.300664</td>\n",
       "      <td>[3, 44, 76, 172, 250, 304, 320, 292, 256, 209,...</td>\n",
       "      <td>4.741306</td>\n",
       "      <td>9.434107</td>\n",
       "      <td>0.437194</td>\n",
       "      <td>1</td>\n",
       "      <td>1</td>\n",
       "    </tr>\n",
       "    <tr>\n",
       "      <th>44998</th>\n",
       "      <td>616741</td>\n",
       "      <td>0.780101</td>\n",
       "      <td>0.411116</td>\n",
       "      <td>[3, 20, 41, 44, 49, 56, 66, 72, 65, 65, 59, 42...</td>\n",
       "      <td>3.030996</td>\n",
       "      <td>10.918878</td>\n",
       "      <td>1.027801</td>\n",
       "      <td>1</td>\n",
       "      <td>1</td>\n",
       "    </tr>\n",
       "    <tr>\n",
       "      <th>44999</th>\n",
       "      <td>241790</td>\n",
       "      <td>0.332791</td>\n",
       "      <td>0.222999</td>\n",
       "      <td>[3, 12, 22, 32, 46, 74, 107, 156, 181, 167, 17...</td>\n",
       "      <td>1.937900</td>\n",
       "      <td>20.748601</td>\n",
       "      <td>0.191698</td>\n",
       "      <td>1</td>\n",
       "      <td>1</td>\n",
       "    </tr>\n",
       "  </tbody>\n",
       "</table>\n",
       "<p>45000 rows × 9 columns</p>\n",
       "</div>"
      ],
      "text/plain": [
       "       Unnamed: 0     alpha      beta  \\\n",
       "0          576255  0.928250  0.476704   \n",
       "1          256756  0.031709  0.294057   \n",
       "2          479232  0.995460  0.493564   \n",
       "3          508733  0.683665  0.418890   \n",
       "4          183247  0.627804  0.412014   \n",
       "...           ...       ...       ...   \n",
       "44995      733394  0.191557  0.532225   \n",
       "44996      118068  0.772784  0.507510   \n",
       "44997      463840  0.271602  0.300664   \n",
       "44998      616741  0.780101  0.411116   \n",
       "44999      241790  0.332791  0.222999   \n",
       "\n",
       "                                                      xi        li         l0  \\\n",
       "0      [3, 5, 6, 23, 62, 113, 129, 107, 85, 47, 22, 9...  3.259593  10.703961   \n",
       "1      [3, 26, 88, 224, 426, 573, 637, 667, 660, 644,...  1.491249  16.319836   \n",
       "2      [3, 10, 21, 35, 48, 69, 78, 92, 66, 48, 24, 18...  3.054364  11.768685   \n",
       "3      [3, 26, 62, 109, 148, 152, 127, 109, 72, 44, 2...  1.939065   7.176297   \n",
       "4      [3, 6, 21, 34, 91, 150, 206, 189, 142, 91, 63,...  3.444772   6.108885   \n",
       "...                                                  ...       ...        ...   \n",
       "44995  [3, 120, 367, 521, 499, 410, 330, 265, 224, 17...  1.442266   9.405879   \n",
       "44996  [3, 55, 120, 174, 185, 139, 82, 42, 20, 11, 5,...  2.901430   7.705809   \n",
       "44997  [3, 44, 76, 172, 250, 304, 320, 292, 256, 209,...  4.741306   9.434107   \n",
       "44998  [3, 20, 41, 44, 49, 56, 66, 72, 65, 65, 59, 42...  3.030996  10.918878   \n",
       "44999  [3, 12, 22, 32, 46, 74, 107, 156, 181, 167, 17...  1.937900  20.748601   \n",
       "\n",
       "             lo  Z0  Zo  \n",
       "0      0.256856   1   1  \n",
       "1      0.350715   1   1  \n",
       "2      0.201637   1   1  \n",
       "3      0.290459   1   1  \n",
       "4      0.175708   1   1  \n",
       "...         ...  ..  ..  \n",
       "44995  0.351155   1   1  \n",
       "44996  0.161502   1   1  \n",
       "44997  0.437194   1   1  \n",
       "44998  1.027801   1   1  \n",
       "44999  0.191698   1   1  \n",
       "\n",
       "[45000 rows x 9 columns]"
      ]
     },
     "execution_count": 21,
     "metadata": {},
     "output_type": "execute_result"
    }
   ],
   "source": [
    "test_data"
   ]
  },
  {
   "cell_type": "code",
   "execution_count": 19,
   "metadata": {},
   "outputs": [],
   "source": [
    "def cdf(x, y, z):\n",
    "    X = np.array([x, y, z]).T\n",
    "    inputs = torch.Tensor(X)\n",
    "    # go to evaluation mode\n",
    "    model.eval()\n",
    "    \n",
    "    # compute,reshape to a 1d array, and convert to a numpy array\n",
    "    Y = model(inputs).view(-1,).detach().numpy()\n",
    "    if len(Y) == 1:\n",
    "        return Y[0]\n",
    "    else:\n",
    "        return Y"
   ]
  },
  {
   "cell_type": "code",
   "execution_count": 22,
   "metadata": {},
   "outputs": [
    {
     "data": {
      "text/plain": [
       "0"
      ]
     },
     "execution_count": 22,
     "metadata": {},
     "output_type": "execute_result"
    }
   ],
   "source": [
    "select = cdf(test_data.alpha, test_data.beta, test_data.l0) <= 0.95\n",
    "CL95   = test_data[['alpha', 'beta', 'xi']][select]\n",
    "CL95.to_csv('../data/SIR_CL95.csv', index=False)\n",
    "len(CL95)"
   ]
  },
  {
   "cell_type": "code",
   "execution_count": null,
   "metadata": {},
   "outputs": [],
   "source": []
  }
 ],
 "metadata": {
  "accelerator": "GPU",
  "colab": {
   "collapsed_sections": [],
   "name": "DRL_19_REINFORCE_Algorithm.ipynb",
   "provenance": []
  },
  "kernelspec": {
   "display_name": "Python 3 (ipykernel)",
   "language": "python",
   "name": "python3"
  },
  "language_info": {
   "codemirror_mode": {
    "name": "ipython",
    "version": 3
   },
   "file_extension": ".py",
   "mimetype": "text/x-python",
   "name": "python",
   "nbconvert_exporter": "python",
   "pygments_lexer": "ipython3",
   "version": "3.11.5"
  }
 },
 "nbformat": 4,
 "nbformat_minor": 4
}
